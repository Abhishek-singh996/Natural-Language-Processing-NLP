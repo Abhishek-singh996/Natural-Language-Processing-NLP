{
  "cells": [
    {
      "cell_type": "markdown",
      "metadata": {
        "id": "eHNf7J680XF-"
      },
      "source": [
        "### Word Embedding Techniques using Embedding Layer in Keras"
      ]
    },
    {
      "cell_type": "code",
      "execution_count": 1,
      "metadata": {
        "id": "PEsK0_yl0XGB",
        "outputId": "2977427d-37d6-4322-8b66-0af58494769e",
        "colab": {
          "base_uri": "https://localhost:8080/"
        }
      },
      "outputs": [
        {
          "output_type": "stream",
          "name": "stdout",
          "text": [
            "Looking in indexes: https://pypi.org/simple, https://us-python.pkg.dev/colab-wheels/public/simple/\n",
            "Collecting tensorflow-gpu\n",
            "  Downloading tensorflow_gpu-2.9.1-cp37-cp37m-manylinux_2_17_x86_64.manylinux2014_x86_64.whl (511.7 MB)\n",
            "\u001b[K     |████████████████████████████████| 511.7 MB 6.2 kB/s \n",
            "\u001b[?25hCollecting flatbuffers<2,>=1.12\n",
            "  Downloading flatbuffers-1.12-py2.py3-none-any.whl (15 kB)\n",
            "Requirement already satisfied: libclang>=13.0.0 in /usr/local/lib/python3.7/dist-packages (from tensorflow-gpu) (14.0.1)\n",
            "Requirement already satisfied: keras-preprocessing>=1.1.1 in /usr/local/lib/python3.7/dist-packages (from tensorflow-gpu) (1.1.2)\n",
            "Requirement already satisfied: opt-einsum>=2.3.2 in /usr/local/lib/python3.7/dist-packages (from tensorflow-gpu) (3.3.0)\n",
            "Requirement already satisfied: grpcio<2.0,>=1.24.3 in /usr/local/lib/python3.7/dist-packages (from tensorflow-gpu) (1.47.0)\n",
            "Collecting keras<2.10.0,>=2.9.0rc0\n",
            "  Downloading keras-2.9.0-py2.py3-none-any.whl (1.6 MB)\n",
            "\u001b[K     |████████████████████████████████| 1.6 MB 59.1 MB/s \n",
            "\u001b[?25hCollecting tensorboard<2.10,>=2.9\n",
            "  Downloading tensorboard-2.9.1-py3-none-any.whl (5.8 MB)\n",
            "\u001b[K     |████████████████████████████████| 5.8 MB 54.6 MB/s \n",
            "\u001b[?25hRequirement already satisfied: typing-extensions>=3.6.6 in /usr/local/lib/python3.7/dist-packages (from tensorflow-gpu) (4.1.1)\n",
            "Requirement already satisfied: absl-py>=1.0.0 in /usr/local/lib/python3.7/dist-packages (from tensorflow-gpu) (1.2.0)\n",
            "Requirement already satisfied: google-pasta>=0.1.1 in /usr/local/lib/python3.7/dist-packages (from tensorflow-gpu) (0.2.0)\n",
            "Collecting gast<=0.4.0,>=0.2.1\n",
            "  Downloading gast-0.4.0-py3-none-any.whl (9.8 kB)\n",
            "Requirement already satisfied: astunparse>=1.6.0 in /usr/local/lib/python3.7/dist-packages (from tensorflow-gpu) (1.6.3)\n",
            "Requirement already satisfied: setuptools in /usr/local/lib/python3.7/dist-packages (from tensorflow-gpu) (57.4.0)\n",
            "Requirement already satisfied: packaging in /usr/local/lib/python3.7/dist-packages (from tensorflow-gpu) (21.3)\n",
            "Requirement already satisfied: h5py>=2.9.0 in /usr/local/lib/python3.7/dist-packages (from tensorflow-gpu) (3.1.0)\n",
            "Requirement already satisfied: protobuf<3.20,>=3.9.2 in /usr/local/lib/python3.7/dist-packages (from tensorflow-gpu) (3.17.3)\n",
            "Requirement already satisfied: termcolor>=1.1.0 in /usr/local/lib/python3.7/dist-packages (from tensorflow-gpu) (1.1.0)\n",
            "Requirement already satisfied: wrapt>=1.11.0 in /usr/local/lib/python3.7/dist-packages (from tensorflow-gpu) (1.14.1)\n",
            "Requirement already satisfied: numpy>=1.20 in /usr/local/lib/python3.7/dist-packages (from tensorflow-gpu) (1.21.6)\n",
            "Requirement already satisfied: six>=1.12.0 in /usr/local/lib/python3.7/dist-packages (from tensorflow-gpu) (1.15.0)\n",
            "Collecting tensorflow-estimator<2.10.0,>=2.9.0rc0\n",
            "  Downloading tensorflow_estimator-2.9.0-py2.py3-none-any.whl (438 kB)\n",
            "\u001b[K     |████████████████████████████████| 438 kB 71.5 MB/s \n",
            "\u001b[?25hRequirement already satisfied: tensorflow-io-gcs-filesystem>=0.23.1 in /usr/local/lib/python3.7/dist-packages (from tensorflow-gpu) (0.26.0)\n",
            "Requirement already satisfied: wheel<1.0,>=0.23.0 in /usr/local/lib/python3.7/dist-packages (from astunparse>=1.6.0->tensorflow-gpu) (0.37.1)\n",
            "Requirement already satisfied: cached-property in /usr/local/lib/python3.7/dist-packages (from h5py>=2.9.0->tensorflow-gpu) (1.5.2)\n",
            "Requirement already satisfied: tensorboard-plugin-wit>=1.6.0 in /usr/local/lib/python3.7/dist-packages (from tensorboard<2.10,>=2.9->tensorflow-gpu) (1.8.1)\n",
            "Requirement already satisfied: markdown>=2.6.8 in /usr/local/lib/python3.7/dist-packages (from tensorboard<2.10,>=2.9->tensorflow-gpu) (3.4.1)\n",
            "Requirement already satisfied: requests<3,>=2.21.0 in /usr/local/lib/python3.7/dist-packages (from tensorboard<2.10,>=2.9->tensorflow-gpu) (2.23.0)\n",
            "Requirement already satisfied: tensorboard-data-server<0.7.0,>=0.6.0 in /usr/local/lib/python3.7/dist-packages (from tensorboard<2.10,>=2.9->tensorflow-gpu) (0.6.1)\n",
            "Requirement already satisfied: werkzeug>=1.0.1 in /usr/local/lib/python3.7/dist-packages (from tensorboard<2.10,>=2.9->tensorflow-gpu) (1.0.1)\n",
            "Requirement already satisfied: google-auth<3,>=1.6.3 in /usr/local/lib/python3.7/dist-packages (from tensorboard<2.10,>=2.9->tensorflow-gpu) (1.35.0)\n",
            "Requirement already satisfied: google-auth-oauthlib<0.5,>=0.4.1 in /usr/local/lib/python3.7/dist-packages (from tensorboard<2.10,>=2.9->tensorflow-gpu) (0.4.6)\n",
            "Requirement already satisfied: pyasn1-modules>=0.2.1 in /usr/local/lib/python3.7/dist-packages (from google-auth<3,>=1.6.3->tensorboard<2.10,>=2.9->tensorflow-gpu) (0.2.8)\n",
            "Requirement already satisfied: rsa<5,>=3.1.4 in /usr/local/lib/python3.7/dist-packages (from google-auth<3,>=1.6.3->tensorboard<2.10,>=2.9->tensorflow-gpu) (4.9)\n",
            "Requirement already satisfied: cachetools<5.0,>=2.0.0 in /usr/local/lib/python3.7/dist-packages (from google-auth<3,>=1.6.3->tensorboard<2.10,>=2.9->tensorflow-gpu) (4.2.4)\n",
            "Requirement already satisfied: requests-oauthlib>=0.7.0 in /usr/local/lib/python3.7/dist-packages (from google-auth-oauthlib<0.5,>=0.4.1->tensorboard<2.10,>=2.9->tensorflow-gpu) (1.3.1)\n",
            "Requirement already satisfied: importlib-metadata>=4.4 in /usr/local/lib/python3.7/dist-packages (from markdown>=2.6.8->tensorboard<2.10,>=2.9->tensorflow-gpu) (4.12.0)\n",
            "Requirement already satisfied: zipp>=0.5 in /usr/local/lib/python3.7/dist-packages (from importlib-metadata>=4.4->markdown>=2.6.8->tensorboard<2.10,>=2.9->tensorflow-gpu) (3.8.1)\n",
            "Requirement already satisfied: pyasn1<0.5.0,>=0.4.6 in /usr/local/lib/python3.7/dist-packages (from pyasn1-modules>=0.2.1->google-auth<3,>=1.6.3->tensorboard<2.10,>=2.9->tensorflow-gpu) (0.4.8)\n",
            "Requirement already satisfied: certifi>=2017.4.17 in /usr/local/lib/python3.7/dist-packages (from requests<3,>=2.21.0->tensorboard<2.10,>=2.9->tensorflow-gpu) (2022.6.15)\n",
            "Requirement already satisfied: idna<3,>=2.5 in /usr/local/lib/python3.7/dist-packages (from requests<3,>=2.21.0->tensorboard<2.10,>=2.9->tensorflow-gpu) (2.10)\n",
            "Requirement already satisfied: urllib3!=1.25.0,!=1.25.1,<1.26,>=1.21.1 in /usr/local/lib/python3.7/dist-packages (from requests<3,>=2.21.0->tensorboard<2.10,>=2.9->tensorflow-gpu) (1.24.3)\n",
            "Requirement already satisfied: chardet<4,>=3.0.2 in /usr/local/lib/python3.7/dist-packages (from requests<3,>=2.21.0->tensorboard<2.10,>=2.9->tensorflow-gpu) (3.0.4)\n",
            "Requirement already satisfied: oauthlib>=3.0.0 in /usr/local/lib/python3.7/dist-packages (from requests-oauthlib>=0.7.0->google-auth-oauthlib<0.5,>=0.4.1->tensorboard<2.10,>=2.9->tensorflow-gpu) (3.2.0)\n",
            "Requirement already satisfied: pyparsing!=3.0.5,>=2.0.2 in /usr/local/lib/python3.7/dist-packages (from packaging->tensorflow-gpu) (3.0.9)\n",
            "Installing collected packages: tensorflow-estimator, tensorboard, keras, gast, flatbuffers, tensorflow-gpu\n",
            "  Attempting uninstall: tensorflow-estimator\n",
            "    Found existing installation: tensorflow-estimator 2.8.0\n",
            "    Uninstalling tensorflow-estimator-2.8.0:\n",
            "      Successfully uninstalled tensorflow-estimator-2.8.0\n",
            "  Attempting uninstall: tensorboard\n",
            "    Found existing installation: tensorboard 2.8.0\n",
            "    Uninstalling tensorboard-2.8.0:\n",
            "      Successfully uninstalled tensorboard-2.8.0\n",
            "  Attempting uninstall: keras\n",
            "    Found existing installation: keras 2.8.0\n",
            "    Uninstalling keras-2.8.0:\n",
            "      Successfully uninstalled keras-2.8.0\n",
            "  Attempting uninstall: gast\n",
            "    Found existing installation: gast 0.5.3\n",
            "    Uninstalling gast-0.5.3:\n",
            "      Successfully uninstalled gast-0.5.3\n",
            "  Attempting uninstall: flatbuffers\n",
            "    Found existing installation: flatbuffers 2.0\n",
            "    Uninstalling flatbuffers-2.0:\n",
            "      Successfully uninstalled flatbuffers-2.0\n",
            "\u001b[31mERROR: pip's dependency resolver does not currently take into account all the packages that are installed. This behaviour is the source of the following dependency conflicts.\n",
            "tensorflow 2.8.2+zzzcolab20220719082949 requires keras<2.9,>=2.8.0rc0, but you have keras 2.9.0 which is incompatible.\n",
            "tensorflow 2.8.2+zzzcolab20220719082949 requires tensorboard<2.9,>=2.8, but you have tensorboard 2.9.1 which is incompatible.\n",
            "tensorflow 2.8.2+zzzcolab20220719082949 requires tensorflow-estimator<2.9,>=2.8, but you have tensorflow-estimator 2.9.0 which is incompatible.\u001b[0m\n",
            "Successfully installed flatbuffers-1.12 gast-0.4.0 keras-2.9.0 tensorboard-2.9.1 tensorflow-estimator-2.9.0 tensorflow-gpu-2.9.1\n"
          ]
        }
      ],
      "source": [
        "!pip install tensorflow-gpu"
      ]
    },
    {
      "cell_type": "code",
      "source": [
        "import tensorflow as tf\n",
        "print(tf.__version__)"
      ],
      "metadata": {
        "colab": {
          "base_uri": "https://localhost:8080/"
        },
        "id": "yZ5hceiMAX7n",
        "outputId": "4f879575-1d85-461e-c2f2-0b5f8f118787"
      },
      "execution_count": 2,
      "outputs": [
        {
          "output_type": "stream",
          "name": "stdout",
          "text": [
            "2.9.1\n"
          ]
        }
      ]
    },
    {
      "cell_type": "code",
      "execution_count": 3,
      "metadata": {
        "id": "k4nKifUl0XGC"
      },
      "outputs": [],
      "source": [
        "##tensorflow >2.0\n",
        "from tensorflow.keras.preprocessing.text import one_hot"
      ]
    },
    {
      "cell_type": "code",
      "source": [
        ""
      ],
      "metadata": {
        "id": "hADTdqZTAUfS"
      },
      "execution_count": 3,
      "outputs": []
    },
    {
      "cell_type": "code",
      "execution_count": 4,
      "metadata": {
        "id": "Fu9PuYeu0XGD"
      },
      "outputs": [],
      "source": [
        "### sentences\n",
        "sent=[  'the glass of milk',\n",
        "     'the glass of juice',\n",
        "     'the cup of tea',\n",
        "    'I am a good boy',\n",
        "     'I am a good developer',\n",
        "     'understand the meaning of words',\n",
        "     'your videos are good']"
      ]
    },
    {
      "cell_type": "code",
      "execution_count": 5,
      "metadata": {
        "colab": {
          "base_uri": "https://localhost:8080/"
        },
        "id": "x5d1D3_20XGD",
        "outputId": "21168201-0f1e-4fea-f796-2aa72683ef95"
      },
      "outputs": [
        {
          "output_type": "execute_result",
          "data": {
            "text/plain": [
              "['the glass of milk',\n",
              " 'the glass of juice',\n",
              " 'the cup of tea',\n",
              " 'I am a good boy',\n",
              " 'I am a good developer',\n",
              " 'understand the meaning of words',\n",
              " 'your videos are good']"
            ]
          },
          "metadata": {},
          "execution_count": 5
        }
      ],
      "source": [
        "sent"
      ]
    },
    {
      "cell_type": "code",
      "execution_count": 6,
      "metadata": {
        "id": "tjnXIn3B0XGE"
      },
      "outputs": [],
      "source": [
        "### Vocabulary size\n",
        "voc_size=500"
      ]
    },
    {
      "cell_type": "markdown",
      "metadata": {
        "id": "-vQOdeKk0XGE"
      },
      "source": [
        "#### One Hot Representation"
      ]
    },
    {
      "cell_type": "code",
      "execution_count": 7,
      "metadata": {
        "colab": {
          "base_uri": "https://localhost:8080/"
        },
        "id": "gojfZpAW0XGE",
        "outputId": "f8062c20-dcd9-4fda-9a8c-3ccf1f7550fa"
      },
      "outputs": [
        {
          "output_type": "stream",
          "name": "stdout",
          "text": [
            "[[355, 65, 143, 485], [355, 65, 143, 62], [355, 336, 143, 105], [199, 387, 284, 122, 246], [199, 387, 284, 122, 196], [295, 355, 485, 143, 37], [194, 76, 56, 122]]\n"
          ]
        }
      ],
      "source": [
        "onehot_repr=[one_hot(words,voc_size)for words in sent] \n",
        "print(onehot_repr)"
      ]
    },
    {
      "cell_type": "markdown",
      "metadata": {
        "id": "eYG267x40XGF"
      },
      "source": [
        "### Word Embedding Represntation"
      ]
    },
    {
      "cell_type": "code",
      "execution_count": 8,
      "metadata": {
        "id": "wpqPm0tb0XGF"
      },
      "outputs": [],
      "source": [
        "from tensorflow.keras.layers import Embedding\n",
        "from tensorflow.keras.preprocessing.sequence import pad_sequences\n",
        "from tensorflow.keras.models import Sequential"
      ]
    },
    {
      "cell_type": "code",
      "execution_count": 9,
      "metadata": {
        "id": "Rov3GTM00XGG"
      },
      "outputs": [],
      "source": [
        "import numpy as np"
      ]
    },
    {
      "cell_type": "code",
      "execution_count": 12,
      "metadata": {
        "colab": {
          "base_uri": "https://localhost:8080/"
        },
        "id": "8fQLPw6p0XGG",
        "outputId": "3dfacb71-e7b5-46e0-e2c0-764a35ef9c93"
      },
      "outputs": [
        {
          "output_type": "stream",
          "name": "stdout",
          "text": [
            "[[  0   0   0   0 355  65 143 485]\n",
            " [  0   0   0   0 355  65 143  62]\n",
            " [  0   0   0   0 355 336 143 105]\n",
            " [  0   0   0 199 387 284 122 246]\n",
            " [  0   0   0 199 387 284 122 196]\n",
            " [  0   0   0 295 355 485 143  37]\n",
            " [  0   0   0   0 194  76  56 122]]\n"
          ]
        }
      ],
      "source": [
        "## pre padding\n",
        "sent_length=8\n",
        "embedded_docs=pad_sequences(onehot_repr,padding='pre',maxlen=sent_length)\n",
        "print(embedded_docs)"
      ]
    },
    {
      "cell_type": "code",
      "execution_count": 13,
      "metadata": {
        "id": "yjQqBYac0XGG"
      },
      "outputs": [],
      "source": [
        "## 10 feature dimesnions\n",
        "dim=10\n"
      ]
    },
    {
      "cell_type": "code",
      "execution_count": 14,
      "metadata": {
        "id": "ozC-TXrt0XGG"
      },
      "outputs": [],
      "source": [
        "model=Sequential()\n",
        "model.add(Embedding(voc_size,10,input_length=sent_length))\n",
        "model.compile('adam','mse')"
      ]
    },
    {
      "cell_type": "code",
      "execution_count": 15,
      "metadata": {
        "colab": {
          "base_uri": "https://localhost:8080/"
        },
        "id": "tMNvq-Ji0XGH",
        "outputId": "190010e4-0f71-44ea-8e89-56799dfd0cf4"
      },
      "outputs": [
        {
          "output_type": "stream",
          "name": "stdout",
          "text": [
            "Model: \"sequential\"\n",
            "_________________________________________________________________\n",
            " Layer (type)                Output Shape              Param #   \n",
            "=================================================================\n",
            " embedding (Embedding)       (None, 8, 10)             5000      \n",
            "                                                                 \n",
            "=================================================================\n",
            "Total params: 5,000\n",
            "Trainable params: 5,000\n",
            "Non-trainable params: 0\n",
            "_________________________________________________________________\n"
          ]
        }
      ],
      "source": [
        "model.summary()"
      ]
    },
    {
      "cell_type": "code",
      "source": [
        "##'the glass of milk',\n",
        "embedded_docs[0]"
      ],
      "metadata": {
        "colab": {
          "base_uri": "https://localhost:8080/"
        },
        "id": "FC4Ess_FEcb3",
        "outputId": "d145e4c5-4b92-4053-bd03-5e8ca492f95e"
      },
      "execution_count": 16,
      "outputs": [
        {
          "output_type": "execute_result",
          "data": {
            "text/plain": [
              "array([  0,   0,   0,   0, 355,  65, 143, 485], dtype=int32)"
            ]
          },
          "metadata": {},
          "execution_count": 16
        }
      ]
    },
    {
      "cell_type": "code",
      "source": [
        "model.predict(embedded_docs[0])"
      ],
      "metadata": {
        "colab": {
          "base_uri": "https://localhost:8080/"
        },
        "id": "bRqEvMBYEZUS",
        "outputId": "4e02cf85-1a33-4115-c09b-0f285fbfd5e9"
      },
      "execution_count": 17,
      "outputs": [
        {
          "output_type": "stream",
          "name": "stdout",
          "text": [
            "WARNING:tensorflow:Model was constructed with shape (None, 8) for input KerasTensor(type_spec=TensorSpec(shape=(None, 8), dtype=tf.float32, name='embedding_input'), name='embedding_input', description=\"created by layer 'embedding_input'\"), but it was called on an input with incompatible shape (None,).\n",
            "1/1 [==============================] - 0s 68ms/step\n"
          ]
        },
        {
          "output_type": "execute_result",
          "data": {
            "text/plain": [
              "array([[ 0.03509407, -0.01811152, -0.02553065, -0.04140742,  0.00750493,\n",
              "         0.02019874,  0.04680446, -0.04408742,  0.03369811, -0.00515174],\n",
              "       [ 0.03509407, -0.01811152, -0.02553065, -0.04140742,  0.00750493,\n",
              "         0.02019874,  0.04680446, -0.04408742,  0.03369811, -0.00515174],\n",
              "       [ 0.03509407, -0.01811152, -0.02553065, -0.04140742,  0.00750493,\n",
              "         0.02019874,  0.04680446, -0.04408742,  0.03369811, -0.00515174],\n",
              "       [ 0.03509407, -0.01811152, -0.02553065, -0.04140742,  0.00750493,\n",
              "         0.02019874,  0.04680446, -0.04408742,  0.03369811, -0.00515174],\n",
              "       [ 0.02358903, -0.00203627,  0.04935385,  0.04856477, -0.03533889,\n",
              "        -0.04513602,  0.03028983, -0.04928595, -0.04263688,  0.00856396],\n",
              "       [-0.02416841,  0.04401085, -0.01319609, -0.0086375 , -0.04525457,\n",
              "         0.02494292,  0.00308961,  0.04983724,  0.0429744 , -0.01685307],\n",
              "       [ 0.00754126, -0.02785276, -0.03048681, -0.03718401, -0.04268418,\n",
              "        -0.02228707, -0.02619806,  0.04285822,  0.00649752, -0.00254145],\n",
              "       [-0.03035358, -0.03623307, -0.00149966,  0.02664036, -0.00458381,\n",
              "        -0.01420831, -0.03307617,  0.01119297,  0.00870411, -0.03662392]],\n",
              "      dtype=float32)"
            ]
          },
          "metadata": {},
          "execution_count": 17
        }
      ]
    },
    {
      "cell_type": "code",
      "execution_count": 18,
      "metadata": {
        "colab": {
          "base_uri": "https://localhost:8080/"
        },
        "id": "kzKP69gx0XGH",
        "outputId": "031a7451-6b20-44ba-e3f6-7166cbff0e1b"
      },
      "outputs": [
        {
          "output_type": "stream",
          "name": "stdout",
          "text": [
            "1/1 [==============================] - 0s 28ms/step\n",
            "[[[ 0.03509407 -0.01811152 -0.02553065 -0.04140742  0.00750493\n",
            "    0.02019874  0.04680446 -0.04408742  0.03369811 -0.00515174]\n",
            "  [ 0.03509407 -0.01811152 -0.02553065 -0.04140742  0.00750493\n",
            "    0.02019874  0.04680446 -0.04408742  0.03369811 -0.00515174]\n",
            "  [ 0.03509407 -0.01811152 -0.02553065 -0.04140742  0.00750493\n",
            "    0.02019874  0.04680446 -0.04408742  0.03369811 -0.00515174]\n",
            "  [ 0.03509407 -0.01811152 -0.02553065 -0.04140742  0.00750493\n",
            "    0.02019874  0.04680446 -0.04408742  0.03369811 -0.00515174]\n",
            "  [ 0.02358903 -0.00203627  0.04935385  0.04856477 -0.03533889\n",
            "   -0.04513602  0.03028983 -0.04928595 -0.04263688  0.00856396]\n",
            "  [-0.02416841  0.04401085 -0.01319609 -0.0086375  -0.04525457\n",
            "    0.02494292  0.00308961  0.04983724  0.0429744  -0.01685307]\n",
            "  [ 0.00754126 -0.02785276 -0.03048681 -0.03718401 -0.04268418\n",
            "   -0.02228707 -0.02619806  0.04285822  0.00649752 -0.00254145]\n",
            "  [-0.03035358 -0.03623307 -0.00149966  0.02664036 -0.00458381\n",
            "   -0.01420831 -0.03307617  0.01119297  0.00870411 -0.03662392]]\n",
            "\n",
            " [[ 0.03509407 -0.01811152 -0.02553065 -0.04140742  0.00750493\n",
            "    0.02019874  0.04680446 -0.04408742  0.03369811 -0.00515174]\n",
            "  [ 0.03509407 -0.01811152 -0.02553065 -0.04140742  0.00750493\n",
            "    0.02019874  0.04680446 -0.04408742  0.03369811 -0.00515174]\n",
            "  [ 0.03509407 -0.01811152 -0.02553065 -0.04140742  0.00750493\n",
            "    0.02019874  0.04680446 -0.04408742  0.03369811 -0.00515174]\n",
            "  [ 0.03509407 -0.01811152 -0.02553065 -0.04140742  0.00750493\n",
            "    0.02019874  0.04680446 -0.04408742  0.03369811 -0.00515174]\n",
            "  [ 0.02358903 -0.00203627  0.04935385  0.04856477 -0.03533889\n",
            "   -0.04513602  0.03028983 -0.04928595 -0.04263688  0.00856396]\n",
            "  [-0.02416841  0.04401085 -0.01319609 -0.0086375  -0.04525457\n",
            "    0.02494292  0.00308961  0.04983724  0.0429744  -0.01685307]\n",
            "  [ 0.00754126 -0.02785276 -0.03048681 -0.03718401 -0.04268418\n",
            "   -0.02228707 -0.02619806  0.04285822  0.00649752 -0.00254145]\n",
            "  [ 0.01411892 -0.04687616  0.02507911 -0.02474729 -0.02992979\n",
            "    0.03971295 -0.02892944  0.01142466  0.00358008 -0.0498895 ]]\n",
            "\n",
            " [[ 0.03509407 -0.01811152 -0.02553065 -0.04140742  0.00750493\n",
            "    0.02019874  0.04680446 -0.04408742  0.03369811 -0.00515174]\n",
            "  [ 0.03509407 -0.01811152 -0.02553065 -0.04140742  0.00750493\n",
            "    0.02019874  0.04680446 -0.04408742  0.03369811 -0.00515174]\n",
            "  [ 0.03509407 -0.01811152 -0.02553065 -0.04140742  0.00750493\n",
            "    0.02019874  0.04680446 -0.04408742  0.03369811 -0.00515174]\n",
            "  [ 0.03509407 -0.01811152 -0.02553065 -0.04140742  0.00750493\n",
            "    0.02019874  0.04680446 -0.04408742  0.03369811 -0.00515174]\n",
            "  [ 0.02358903 -0.00203627  0.04935385  0.04856477 -0.03533889\n",
            "   -0.04513602  0.03028983 -0.04928595 -0.04263688  0.00856396]\n",
            "  [-0.04284848  0.01568436  0.0129102  -0.01667756 -0.02847471\n",
            "   -0.02990903  0.03081835 -0.00023232 -0.01815187  0.00984627]\n",
            "  [ 0.00754126 -0.02785276 -0.03048681 -0.03718401 -0.04268418\n",
            "   -0.02228707 -0.02619806  0.04285822  0.00649752 -0.00254145]\n",
            "  [ 0.02400717  0.02147862  0.00436664  0.04639642 -0.04778599\n",
            "    0.02118696 -0.01589863  0.02068949 -0.01494365 -0.01633441]]\n",
            "\n",
            " [[ 0.03509407 -0.01811152 -0.02553065 -0.04140742  0.00750493\n",
            "    0.02019874  0.04680446 -0.04408742  0.03369811 -0.00515174]\n",
            "  [ 0.03509407 -0.01811152 -0.02553065 -0.04140742  0.00750493\n",
            "    0.02019874  0.04680446 -0.04408742  0.03369811 -0.00515174]\n",
            "  [ 0.03509407 -0.01811152 -0.02553065 -0.04140742  0.00750493\n",
            "    0.02019874  0.04680446 -0.04408742  0.03369811 -0.00515174]\n",
            "  [ 0.03744909 -0.03553833 -0.00684155 -0.03975235 -0.04580208\n",
            "   -0.04304357  0.04958752 -0.04014603 -0.04754036  0.02180412]\n",
            "  [-0.02142011  0.03077376  0.03504599  0.0360097  -0.0109607\n",
            "    0.00357462  0.02254276  0.01681491  0.03543686 -0.03415318]\n",
            "  [-0.03575184  0.03482244 -0.01299149 -0.01923653  0.01557747\n",
            "   -0.0170211   0.03289373  0.01294161  0.03459461  0.02615627]\n",
            "  [-0.03663222  0.04760163  0.03460498  0.01645377  0.0487454\n",
            "    0.02297174 -0.03249096  0.04422331 -0.02072812 -0.03063352]\n",
            "  [ 0.03410472 -0.01804112 -0.01688222  0.04127805  0.02730123\n",
            "    0.03662057  0.02149692 -0.03702373  0.02693582  0.01738942]]\n",
            "\n",
            " [[ 0.03509407 -0.01811152 -0.02553065 -0.04140742  0.00750493\n",
            "    0.02019874  0.04680446 -0.04408742  0.03369811 -0.00515174]\n",
            "  [ 0.03509407 -0.01811152 -0.02553065 -0.04140742  0.00750493\n",
            "    0.02019874  0.04680446 -0.04408742  0.03369811 -0.00515174]\n",
            "  [ 0.03509407 -0.01811152 -0.02553065 -0.04140742  0.00750493\n",
            "    0.02019874  0.04680446 -0.04408742  0.03369811 -0.00515174]\n",
            "  [ 0.03744909 -0.03553833 -0.00684155 -0.03975235 -0.04580208\n",
            "   -0.04304357  0.04958752 -0.04014603 -0.04754036  0.02180412]\n",
            "  [-0.02142011  0.03077376  0.03504599  0.0360097  -0.0109607\n",
            "    0.00357462  0.02254276  0.01681491  0.03543686 -0.03415318]\n",
            "  [-0.03575184  0.03482244 -0.01299149 -0.01923653  0.01557747\n",
            "   -0.0170211   0.03289373  0.01294161  0.03459461  0.02615627]\n",
            "  [-0.03663222  0.04760163  0.03460498  0.01645377  0.0487454\n",
            "    0.02297174 -0.03249096  0.04422331 -0.02072812 -0.03063352]\n",
            "  [-0.02225477 -0.00265384  0.04917922  0.0012504   0.03330183\n",
            "    0.00255433 -0.00372552 -0.02280827  0.01387309  0.01752785]]\n",
            "\n",
            " [[ 0.03509407 -0.01811152 -0.02553065 -0.04140742  0.00750493\n",
            "    0.02019874  0.04680446 -0.04408742  0.03369811 -0.00515174]\n",
            "  [ 0.03509407 -0.01811152 -0.02553065 -0.04140742  0.00750493\n",
            "    0.02019874  0.04680446 -0.04408742  0.03369811 -0.00515174]\n",
            "  [ 0.03509407 -0.01811152 -0.02553065 -0.04140742  0.00750493\n",
            "    0.02019874  0.04680446 -0.04408742  0.03369811 -0.00515174]\n",
            "  [ 0.03246659 -0.00741451 -0.04265304  0.00105863 -0.02319959\n",
            "    0.01039797  0.02672968  0.00648776  0.00373878 -0.00107491]\n",
            "  [ 0.02358903 -0.00203627  0.04935385  0.04856477 -0.03533889\n",
            "   -0.04513602  0.03028983 -0.04928595 -0.04263688  0.00856396]\n",
            "  [-0.03035358 -0.03623307 -0.00149966  0.02664036 -0.00458381\n",
            "   -0.01420831 -0.03307617  0.01119297  0.00870411 -0.03662392]\n",
            "  [ 0.00754126 -0.02785276 -0.03048681 -0.03718401 -0.04268418\n",
            "   -0.02228707 -0.02619806  0.04285822  0.00649752 -0.00254145]\n",
            "  [-0.01300746  0.01928613  0.04933539  0.01100754 -0.03401645\n",
            "   -0.00813454  0.04232874 -0.03880394 -0.00892063  0.04341576]]\n",
            "\n",
            " [[ 0.03509407 -0.01811152 -0.02553065 -0.04140742  0.00750493\n",
            "    0.02019874  0.04680446 -0.04408742  0.03369811 -0.00515174]\n",
            "  [ 0.03509407 -0.01811152 -0.02553065 -0.04140742  0.00750493\n",
            "    0.02019874  0.04680446 -0.04408742  0.03369811 -0.00515174]\n",
            "  [ 0.03509407 -0.01811152 -0.02553065 -0.04140742  0.00750493\n",
            "    0.02019874  0.04680446 -0.04408742  0.03369811 -0.00515174]\n",
            "  [ 0.03509407 -0.01811152 -0.02553065 -0.04140742  0.00750493\n",
            "    0.02019874  0.04680446 -0.04408742  0.03369811 -0.00515174]\n",
            "  [-0.00873031  0.00150597 -0.04573771  0.00888066 -0.0119945\n",
            "    0.03935677 -0.00072464 -0.04486169  0.01869399 -0.02179307]\n",
            "  [-0.04927918 -0.00839553  0.044262   -0.0424507   0.01701817\n",
            "   -0.01694646 -0.02702801 -0.04483129 -0.03694542 -0.0114934 ]\n",
            "  [ 0.04293493 -0.02999134 -0.01573611  0.02899096  0.02251227\n",
            "    0.04861745  0.01048426 -0.01457097  0.04274147 -0.00246953]\n",
            "  [-0.03663222  0.04760163  0.03460498  0.01645377  0.0487454\n",
            "    0.02297174 -0.03249096  0.04422331 -0.02072812 -0.03063352]]]\n"
          ]
        }
      ],
      "source": [
        "print(model.predict(embedded_docs))"
      ]
    },
    {
      "cell_type": "code",
      "execution_count": 19,
      "metadata": {
        "id": "JuUxfk7d0XGH",
        "outputId": "7703d6ab-659b-4195-fa7a-7b9c035defaa",
        "colab": {
          "base_uri": "https://localhost:8080/"
        }
      },
      "outputs": [
        {
          "output_type": "execute_result",
          "data": {
            "text/plain": [
              "array([  0,   0,   0,   0, 355,  65, 143, 485], dtype=int32)"
            ]
          },
          "metadata": {},
          "execution_count": 19
        }
      ],
      "source": [
        "embedded_docs[0]"
      ]
    },
    {
      "cell_type": "code",
      "execution_count": 20,
      "metadata": {
        "id": "6JJ_zD0u0XGH",
        "outputId": "4dfe64e8-cb87-4426-c2e6-d13993d0b981",
        "colab": {
          "base_uri": "https://localhost:8080/"
        }
      },
      "outputs": [
        {
          "output_type": "stream",
          "name": "stdout",
          "text": [
            "1/1 [==============================] - 0s 17ms/step\n",
            "[[ 0.03509407 -0.01811152 -0.02553065 -0.04140742  0.00750493  0.02019874\n",
            "   0.04680446 -0.04408742  0.03369811 -0.00515174]\n",
            " [ 0.03509407 -0.01811152 -0.02553065 -0.04140742  0.00750493  0.02019874\n",
            "   0.04680446 -0.04408742  0.03369811 -0.00515174]\n",
            " [ 0.03509407 -0.01811152 -0.02553065 -0.04140742  0.00750493  0.02019874\n",
            "   0.04680446 -0.04408742  0.03369811 -0.00515174]\n",
            " [ 0.03509407 -0.01811152 -0.02553065 -0.04140742  0.00750493  0.02019874\n",
            "   0.04680446 -0.04408742  0.03369811 -0.00515174]\n",
            " [ 0.02358903 -0.00203627  0.04935385  0.04856477 -0.03533889 -0.04513602\n",
            "   0.03028983 -0.04928595 -0.04263688  0.00856396]\n",
            " [-0.02416841  0.04401085 -0.01319609 -0.0086375  -0.04525457  0.02494292\n",
            "   0.00308961  0.04983724  0.0429744  -0.01685307]\n",
            " [ 0.00754126 -0.02785276 -0.03048681 -0.03718401 -0.04268418 -0.02228707\n",
            "  -0.02619806  0.04285822  0.00649752 -0.00254145]\n",
            " [-0.03035358 -0.03623307 -0.00149966  0.02664036 -0.00458381 -0.01420831\n",
            "  -0.03307617  0.01119297  0.00870411 -0.03662392]]\n"
          ]
        }
      ],
      "source": [
        "print(model.predict(embedded_docs)[0])"
      ]
    },
    {
      "cell_type": "code",
      "source": [
        ""
      ],
      "metadata": {
        "id": "wRTbmI0Yr8Sr"
      },
      "execution_count": null,
      "outputs": []
    },
    {
      "cell_type": "markdown",
      "source": [
        "### Assignment"
      ],
      "metadata": {
        "id": "nt7P7asxr8xB"
      }
    },
    {
      "cell_type": "code",
      "execution_count": 22,
      "metadata": {
        "id": "8OMu3iAz0XGH"
      },
      "outputs": [],
      "source": [
        "\n",
        "\n",
        "sent=[\"The world is a better place\",\n",
        "      \"Marvel series is my favourite movie\",\n",
        "      \"I like DC movies\",\n",
        "      \"the cat is eating the food\",\n",
        "      \"Tom and Jerry is my favourite movie\",\n",
        "      \"Python is my favourite programming language\"\n",
        "      ]"
      ]
    },
    {
      "cell_type": "code",
      "source": [
        "vocab_size = 500"
      ],
      "metadata": {
        "id": "nnP0PODxr5av"
      },
      "execution_count": 23,
      "outputs": []
    },
    {
      "cell_type": "code",
      "source": [
        "from tensorflow.keras.preprocessing.text import one_hot"
      ],
      "metadata": {
        "id": "lq5QkOZzs1PN"
      },
      "execution_count": 24,
      "outputs": []
    },
    {
      "cell_type": "code",
      "source": [
        "onehot_repr = [one_hot(words,vocab_size) for words in sent]\n",
        "print(onehot_repr)"
      ],
      "metadata": {
        "id": "rWGLTKtptCEH",
        "outputId": "d0b59199-60b9-4f4a-9a2c-dee5bf054592",
        "colab": {
          "base_uri": "https://localhost:8080/"
        }
      },
      "execution_count": 27,
      "outputs": [
        {
          "output_type": "stream",
          "name": "stdout",
          "text": [
            "[[355, 267, 111, 284, 446, 176], [44, 241, 111, 100, 274, 451], [199, 106, 375, 155], [355, 493, 111, 187, 355, 471], [419, 416, 431, 111, 100, 274, 451], [400, 111, 100, 274, 84, 302]]\n"
          ]
        }
      ]
    },
    {
      "cell_type": "code",
      "source": [
        "sent_len = 8"
      ],
      "metadata": {
        "id": "Nx9QGvAPtjak"
      },
      "execution_count": 34,
      "outputs": []
    },
    {
      "cell_type": "code",
      "source": [
        "from tensorflow.keras.layers import Embedding\n",
        "from tensorflow.keras.preprocessing.sequence import pad_sequences\n",
        "from tensorflow.keras.models import Sequential\n"
      ],
      "metadata": {
        "id": "PENMGuz5tkb3"
      },
      "execution_count": 35,
      "outputs": []
    },
    {
      "cell_type": "code",
      "source": [
        "embedded_docs=pad_sequences(onehot_repr,padding='pre',maxlen=sent_len)\n",
        "print(embedded_docs)"
      ],
      "metadata": {
        "id": "UvdSGb-BwRNs",
        "outputId": "f21b439f-1e8d-469d-b64b-d19c1307491a",
        "colab": {
          "base_uri": "https://localhost:8080/"
        }
      },
      "execution_count": 36,
      "outputs": [
        {
          "output_type": "stream",
          "name": "stdout",
          "text": [
            "[[  0   0 355 267 111 284 446 176]\n",
            " [  0   0  44 241 111 100 274 451]\n",
            " [  0   0   0   0 199 106 375 155]\n",
            " [  0   0 355 493 111 187 355 471]\n",
            " [  0 419 416 431 111 100 274 451]\n",
            " [  0   0 400 111 100 274  84 302]]\n"
          ]
        }
      ]
    },
    {
      "cell_type": "code",
      "source": [
        "dimn = 10\n",
        "model = Sequential()\n",
        "model.add(Embedding(vocab_size,10,input_length = sent_len))\n",
        "model.compile('adam','mse')"
      ],
      "metadata": {
        "id": "NGAxclk6wZSG"
      },
      "execution_count": 37,
      "outputs": []
    },
    {
      "cell_type": "code",
      "source": [
        "model.summary()"
      ],
      "metadata": {
        "id": "6-IlYSbI1LHg",
        "outputId": "3741bda6-5a0c-4f64-a0c1-8373a6e263a8",
        "colab": {
          "base_uri": "https://localhost:8080/"
        }
      },
      "execution_count": 38,
      "outputs": [
        {
          "output_type": "stream",
          "name": "stdout",
          "text": [
            "Model: \"sequential_1\"\n",
            "_________________________________________________________________\n",
            " Layer (type)                Output Shape              Param #   \n",
            "=================================================================\n",
            " embedding_1 (Embedding)     (None, 8, 10)             5000      \n",
            "                                                                 \n",
            "=================================================================\n",
            "Total params: 5,000\n",
            "Trainable params: 5,000\n",
            "Non-trainable params: 0\n",
            "_________________________________________________________________\n"
          ]
        }
      ]
    },
    {
      "cell_type": "code",
      "source": [
        "model.predict(embedded_docs)"
      ],
      "metadata": {
        "id": "q7rnADUF1Nnn",
        "outputId": "c037f25e-3e02-40ed-9a5f-7585e59add56",
        "colab": {
          "base_uri": "https://localhost:8080/"
        }
      },
      "execution_count": 39,
      "outputs": [
        {
          "output_type": "stream",
          "name": "stdout",
          "text": [
            "1/1 [==============================] - 0s 30ms/step\n"
          ]
        },
        {
          "output_type": "execute_result",
          "data": {
            "text/plain": [
              "array([[[ 0.02258198, -0.0301483 ,  0.04729221,  0.02389121,\n",
              "          0.03563383,  0.00142531, -0.01010094, -0.04068403,\n",
              "         -0.02186536,  0.04724214],\n",
              "        [ 0.02258198, -0.0301483 ,  0.04729221,  0.02389121,\n",
              "          0.03563383,  0.00142531, -0.01010094, -0.04068403,\n",
              "         -0.02186536,  0.04724214],\n",
              "        [-0.03796562,  0.02127593, -0.01894348, -0.03594025,\n",
              "         -0.00923138,  0.0288031 ,  0.00863392, -0.00150547,\n",
              "          0.03514353,  0.00782015],\n",
              "        [ 0.01453706,  0.03359247,  0.02253035,  0.03269616,\n",
              "         -0.00512557,  0.02261117,  0.01329989,  0.01727774,\n",
              "          0.04286985, -0.00867001],\n",
              "        [ 0.02213447,  0.00330007, -0.02600918, -0.03170508,\n",
              "          0.01174644,  0.00297081, -0.02394829,  0.04956242,\n",
              "         -0.00848875,  0.00052375],\n",
              "        [-0.01269652,  0.0225412 , -0.0080496 , -0.04450696,\n",
              "         -0.02824329,  0.02252371, -0.03248848, -0.03150199,\n",
              "         -0.04989563, -0.03877071],\n",
              "        [-0.01314201, -0.0213148 ,  0.04365541, -0.0279658 ,\n",
              "         -0.02493879,  0.03055101, -0.02395613,  0.03433657,\n",
              "         -0.04086185,  0.04734262],\n",
              "        [-0.0284707 , -0.0131061 ,  0.01973783, -0.03683138,\n",
              "         -0.02322192,  0.01602663, -0.03842864, -0.04321954,\n",
              "         -0.02563744, -0.02767992]],\n",
              "\n",
              "       [[ 0.02258198, -0.0301483 ,  0.04729221,  0.02389121,\n",
              "          0.03563383,  0.00142531, -0.01010094, -0.04068403,\n",
              "         -0.02186536,  0.04724214],\n",
              "        [ 0.02258198, -0.0301483 ,  0.04729221,  0.02389121,\n",
              "          0.03563383,  0.00142531, -0.01010094, -0.04068403,\n",
              "         -0.02186536,  0.04724214],\n",
              "        [-0.04208828,  0.00975538,  0.00838304, -0.04619519,\n",
              "         -0.01568283, -0.00662814, -0.00295503,  0.0233449 ,\n",
              "         -0.00349345, -0.04271454],\n",
              "        [ 0.02351538,  0.02378793, -0.042765  , -0.00373472,\n",
              "         -0.03849394,  0.02386514,  0.04463265,  0.04327997,\n",
              "         -0.03347787, -0.00592246],\n",
              "        [ 0.02213447,  0.00330007, -0.02600918, -0.03170508,\n",
              "          0.01174644,  0.00297081, -0.02394829,  0.04956242,\n",
              "         -0.00848875,  0.00052375],\n",
              "        [-0.04615461, -0.03272783,  0.01389119, -0.02484338,\n",
              "          0.02034154, -0.03861476, -0.03007981, -0.03270421,\n",
              "         -0.0484174 , -0.03119422],\n",
              "        [ 0.02854791,  0.02985789,  0.02185363, -0.01675339,\n",
              "          0.04873054,  0.01697222, -0.02367096,  0.00188788,\n",
              "          0.03121427, -0.04794955],\n",
              "        [-0.00336709, -0.02130551, -0.03528594, -0.04748346,\n",
              "         -0.02449511,  0.02594176, -0.00168755,  0.04678449,\n",
              "         -0.01271012, -0.01695417]],\n",
              "\n",
              "       [[ 0.02258198, -0.0301483 ,  0.04729221,  0.02389121,\n",
              "          0.03563383,  0.00142531, -0.01010094, -0.04068403,\n",
              "         -0.02186536,  0.04724214],\n",
              "        [ 0.02258198, -0.0301483 ,  0.04729221,  0.02389121,\n",
              "          0.03563383,  0.00142531, -0.01010094, -0.04068403,\n",
              "         -0.02186536,  0.04724214],\n",
              "        [ 0.02258198, -0.0301483 ,  0.04729221,  0.02389121,\n",
              "          0.03563383,  0.00142531, -0.01010094, -0.04068403,\n",
              "         -0.02186536,  0.04724214],\n",
              "        [ 0.02258198, -0.0301483 ,  0.04729221,  0.02389121,\n",
              "          0.03563383,  0.00142531, -0.01010094, -0.04068403,\n",
              "         -0.02186536,  0.04724214],\n",
              "        [ 0.01397431,  0.04962795, -0.03708778,  0.02980517,\n",
              "          0.03342518, -0.00549827, -0.01011565, -0.01018848,\n",
              "         -0.00381519, -0.02236233],\n",
              "        [ 0.0413257 ,  0.02014511,  0.03814885,  0.04007528,\n",
              "         -0.01037085,  0.02731732, -0.03726935,  0.0136003 ,\n",
              "         -0.01565873,  0.00289519],\n",
              "        [-0.00809834,  0.04923291, -0.02071444,  0.01484678,\n",
              "          0.00255831, -0.03107468,  0.03258361,  0.0405417 ,\n",
              "          0.02145514, -0.04547479],\n",
              "        [ 0.04921186, -0.0099085 , -0.02720449,  0.03664423,\n",
              "          0.0063582 , -0.04060877, -0.00828655,  0.03398452,\n",
              "          0.03446675,  0.00166132]],\n",
              "\n",
              "       [[ 0.02258198, -0.0301483 ,  0.04729221,  0.02389121,\n",
              "          0.03563383,  0.00142531, -0.01010094, -0.04068403,\n",
              "         -0.02186536,  0.04724214],\n",
              "        [ 0.02258198, -0.0301483 ,  0.04729221,  0.02389121,\n",
              "          0.03563383,  0.00142531, -0.01010094, -0.04068403,\n",
              "         -0.02186536,  0.04724214],\n",
              "        [-0.03796562,  0.02127593, -0.01894348, -0.03594025,\n",
              "         -0.00923138,  0.0288031 ,  0.00863392, -0.00150547,\n",
              "          0.03514353,  0.00782015],\n",
              "        [ 0.02647568,  0.01872723, -0.04346157, -0.02271754,\n",
              "          0.03451368, -0.02290515,  0.04678788,  0.03427377,\n",
              "          0.00024734,  0.04326295],\n",
              "        [ 0.02213447,  0.00330007, -0.02600918, -0.03170508,\n",
              "          0.01174644,  0.00297081, -0.02394829,  0.04956242,\n",
              "         -0.00848875,  0.00052375],\n",
              "        [-0.03585051,  0.0218823 , -0.01432512,  0.04489226,\n",
              "         -0.02629786, -0.00239338, -0.0189925 , -0.02286123,\n",
              "          0.03232479,  0.00081413],\n",
              "        [-0.03796562,  0.02127593, -0.01894348, -0.03594025,\n",
              "         -0.00923138,  0.0288031 ,  0.00863392, -0.00150547,\n",
              "          0.03514353,  0.00782015],\n",
              "        [ 0.04648271, -0.004555  ,  0.03260566, -0.00127034,\n",
              "          0.00101402, -0.00874991,  0.03790767,  0.03138075,\n",
              "          0.0273228 ,  0.01164739]],\n",
              "\n",
              "       [[ 0.02258198, -0.0301483 ,  0.04729221,  0.02389121,\n",
              "          0.03563383,  0.00142531, -0.01010094, -0.04068403,\n",
              "         -0.02186536,  0.04724214],\n",
              "        [ 0.04507865,  0.00026771,  0.03696946, -0.00873079,\n",
              "         -0.03447128, -0.00932002, -0.04511468,  0.04266043,\n",
              "          0.03464827,  0.02550412],\n",
              "        [ 0.0237247 ,  0.04723236, -0.03319191, -0.00954994,\n",
              "          0.0375384 ,  0.00542077, -0.03473867,  0.02612532,\n",
              "          0.04450404, -0.00253174],\n",
              "        [-0.02046788, -0.03925939, -0.04447513,  0.03335137,\n",
              "         -0.04653905, -0.02200804,  0.01012551,  0.00583367,\n",
              "         -0.04006616, -0.01209402],\n",
              "        [ 0.02213447,  0.00330007, -0.02600918, -0.03170508,\n",
              "          0.01174644,  0.00297081, -0.02394829,  0.04956242,\n",
              "         -0.00848875,  0.00052375],\n",
              "        [-0.04615461, -0.03272783,  0.01389119, -0.02484338,\n",
              "          0.02034154, -0.03861476, -0.03007981, -0.03270421,\n",
              "         -0.0484174 , -0.03119422],\n",
              "        [ 0.02854791,  0.02985789,  0.02185363, -0.01675339,\n",
              "          0.04873054,  0.01697222, -0.02367096,  0.00188788,\n",
              "          0.03121427, -0.04794955],\n",
              "        [-0.00336709, -0.02130551, -0.03528594, -0.04748346,\n",
              "         -0.02449511,  0.02594176, -0.00168755,  0.04678449,\n",
              "         -0.01271012, -0.01695417]],\n",
              "\n",
              "       [[ 0.02258198, -0.0301483 ,  0.04729221,  0.02389121,\n",
              "          0.03563383,  0.00142531, -0.01010094, -0.04068403,\n",
              "         -0.02186536,  0.04724214],\n",
              "        [ 0.02258198, -0.0301483 ,  0.04729221,  0.02389121,\n",
              "          0.03563383,  0.00142531, -0.01010094, -0.04068403,\n",
              "         -0.02186536,  0.04724214],\n",
              "        [ 0.0004857 ,  0.02223969,  0.01239488,  0.01506895,\n",
              "         -0.04232327,  0.0403311 , -0.03509828, -0.02804934,\n",
              "         -0.00672094, -0.03671036],\n",
              "        [ 0.02213447,  0.00330007, -0.02600918, -0.03170508,\n",
              "          0.01174644,  0.00297081, -0.02394829,  0.04956242,\n",
              "         -0.00848875,  0.00052375],\n",
              "        [-0.04615461, -0.03272783,  0.01389119, -0.02484338,\n",
              "          0.02034154, -0.03861476, -0.03007981, -0.03270421,\n",
              "         -0.0484174 , -0.03119422],\n",
              "        [ 0.02854791,  0.02985789,  0.02185363, -0.01675339,\n",
              "          0.04873054,  0.01697222, -0.02367096,  0.00188788,\n",
              "          0.03121427, -0.04794955],\n",
              "        [-0.02702659, -0.00356489,  0.01395771,  0.02284949,\n",
              "          0.01464218, -0.03193063, -0.02819814, -0.04547377,\n",
              "          0.0389581 , -0.01750122],\n",
              "        [-0.0393818 , -0.0322201 ,  0.04283174, -0.00119482,\n",
              "          0.02379969,  0.03150681, -0.04349342, -0.01773711,\n",
              "          0.03286001, -0.04805908]]], dtype=float32)"
            ]
          },
          "metadata": {},
          "execution_count": 39
        }
      ]
    },
    {
      "cell_type": "code",
      "source": [
        ""
      ],
      "metadata": {
        "id": "SMMo2Cu11dcc"
      },
      "execution_count": null,
      "outputs": []
    }
  ],
  "metadata": {
    "kernelspec": {
      "display_name": "Python 3",
      "language": "python",
      "name": "python3"
    },
    "language_info": {
      "codemirror_mode": {
        "name": "ipython",
        "version": 3
      },
      "file_extension": ".py",
      "mimetype": "text/x-python",
      "name": "python",
      "nbconvert_exporter": "python",
      "pygments_lexer": "ipython3",
      "version": "3.7.4"
    },
    "colab": {
      "name": "Word embedding Techniques.ipynb",
      "provenance": [],
      "collapsed_sections": []
    },
    "accelerator": "GPU",
    "gpuClass": "standard"
  },
  "nbformat": 4,
  "nbformat_minor": 0
}